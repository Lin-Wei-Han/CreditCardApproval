{
 "cells": [
  {
   "cell_type": "code",
   "execution_count": 87,
   "metadata": {},
   "outputs": [],
   "source": [
    "from sklearn.model_selection import train_test_split\n",
    "from sklearn.preprocessing import StandardScaler\n",
    "from sklearn import preprocessing\n",
    "from sklearn.metrics import confusion_matrix,accuracy_score,classification_report,recall_score\n",
    "from sklearn import metrics\n",
    "\n",
    "from sklearn.neighbors import KNeighborsClassifier\n",
    "from xgboost import XGBClassifier\n",
    "from sklearn.ensemble import RandomForestClassifier\n",
    "from sklearn.naive_bayes import GaussianNB\n",
    "from sklearn.linear_model import LogisticRegression\n",
    "\n",
    "from imblearn.over_sampling import SMOTE\n",
    "from imblearn.under_sampling import TomekLinks\n",
    "from imblearn.combine import SMOTETomek\n",
    "\n",
    "import matplotlib.pyplot as plt\n",
    "import pandas as pd\n",
    "import numpy as np"
   ]
  },
  {
   "attachments": {},
   "cell_type": "markdown",
   "metadata": {},
   "source": [
    "## Importing the dataset"
   ]
  },
  {
   "cell_type": "code",
   "execution_count": 88,
   "metadata": {},
   "outputs": [
    {
     "data": {
      "text/plain": [
       "Married                 546619\n",
       "Single / not married     94335\n",
       "Civil marriage           60342\n",
       "Separated                45255\n",
       "Widow                    31164\n",
       "Name: NAME_FAMILY_STATUS, dtype: int64"
      ]
     },
     "execution_count": 88,
     "metadata": {},
     "output_type": "execute_result"
    }
   ],
   "source": [
    "application_record_dataset = pd.read_csv('data/application_record.csv')\n",
    "credit_record_dataset = pd.read_csv('data/credit_record.csv').drop(labels=['MONTHS_BALANCE'],axis=1)\n",
    "\n",
    "dataset = pd.merge(application_record_dataset, credit_record_dataset, on='ID').drop(labels=['ID'],axis=1)\n",
    "dataset\n",
    "\n",
    "dataset['NAME_FAMILY_STATUS'].value_counts()"
   ]
  },
  {
   "attachments": {},
   "cell_type": "markdown",
   "metadata": {},
   "source": [
    "## Data Cleaning"
   ]
  },
  {
   "cell_type": "code",
   "execution_count": 89,
   "metadata": {},
   "outputs": [
    {
     "name": "stdout",
     "output_type": "stream",
     "text": [
      "CODE_GENDER            0\n",
      "FLAG_OWN_CAR           0\n",
      "FLAG_OWN_REALTY        0\n",
      "CNT_CHILDREN           0\n",
      "AMT_INCOME_TOTAL       0\n",
      "NAME_INCOME_TYPE       0\n",
      "NAME_EDUCATION_TYPE    0\n",
      "NAME_FAMILY_STATUS     0\n",
      "NAME_HOUSING_TYPE      0\n",
      "DAYS_BIRTH             0\n",
      "DAYS_EMPLOYED          0\n",
      "FLAG_MOBIL             0\n",
      "FLAG_WORK_PHONE        0\n",
      "FLAG_PHONE             0\n",
      "FLAG_EMAIL             0\n",
      "CNT_FAM_MEMBERS        0\n",
      "STATUS                 0\n",
      "dtype: int64\n"
     ]
    },
    {
     "data": {
      "text/html": [
       "<div>\n",
       "<style scoped>\n",
       "    .dataframe tbody tr th:only-of-type {\n",
       "        vertical-align: middle;\n",
       "    }\n",
       "\n",
       "    .dataframe tbody tr th {\n",
       "        vertical-align: top;\n",
       "    }\n",
       "\n",
       "    .dataframe thead th {\n",
       "        text-align: right;\n",
       "    }\n",
       "</style>\n",
       "<table border=\"1\" class=\"dataframe\">\n",
       "  <thead>\n",
       "    <tr style=\"text-align: right;\">\n",
       "      <th></th>\n",
       "      <th>CODE_GENDER</th>\n",
       "      <th>FLAG_OWN_CAR</th>\n",
       "      <th>FLAG_OWN_REALTY</th>\n",
       "      <th>CNT_CHILDREN</th>\n",
       "      <th>AMT_INCOME_TOTAL</th>\n",
       "      <th>NAME_INCOME_TYPE</th>\n",
       "      <th>NAME_EDUCATION_TYPE</th>\n",
       "      <th>NAME_FAMILY_STATUS</th>\n",
       "      <th>NAME_HOUSING_TYPE</th>\n",
       "      <th>DAYS_BIRTH</th>\n",
       "      <th>DAYS_EMPLOYED</th>\n",
       "      <th>FLAG_MOBIL</th>\n",
       "      <th>FLAG_WORK_PHONE</th>\n",
       "      <th>FLAG_PHONE</th>\n",
       "      <th>FLAG_EMAIL</th>\n",
       "      <th>CNT_FAM_MEMBERS</th>\n",
       "      <th>STATUS</th>\n",
       "    </tr>\n",
       "  </thead>\n",
       "  <tbody>\n",
       "    <tr>\n",
       "      <th>0</th>\n",
       "      <td>M</td>\n",
       "      <td>Y</td>\n",
       "      <td>Y</td>\n",
       "      <td>0</td>\n",
       "      <td>427500.0</td>\n",
       "      <td>Working</td>\n",
       "      <td>Higher education</td>\n",
       "      <td>Civil marriage</td>\n",
       "      <td>Rented apartment</td>\n",
       "      <td>-12005</td>\n",
       "      <td>-4542</td>\n",
       "      <td>1</td>\n",
       "      <td>1</td>\n",
       "      <td>0</td>\n",
       "      <td>0</td>\n",
       "      <td>2.0</td>\n",
       "      <td>C</td>\n",
       "    </tr>\n",
       "    <tr>\n",
       "      <th>1</th>\n",
       "      <td>M</td>\n",
       "      <td>Y</td>\n",
       "      <td>Y</td>\n",
       "      <td>0</td>\n",
       "      <td>427500.0</td>\n",
       "      <td>Working</td>\n",
       "      <td>Higher education</td>\n",
       "      <td>Civil marriage</td>\n",
       "      <td>Rented apartment</td>\n",
       "      <td>-12005</td>\n",
       "      <td>-4542</td>\n",
       "      <td>1</td>\n",
       "      <td>1</td>\n",
       "      <td>0</td>\n",
       "      <td>0</td>\n",
       "      <td>2.0</td>\n",
       "      <td>C</td>\n",
       "    </tr>\n",
       "    <tr>\n",
       "      <th>2</th>\n",
       "      <td>M</td>\n",
       "      <td>Y</td>\n",
       "      <td>Y</td>\n",
       "      <td>0</td>\n",
       "      <td>427500.0</td>\n",
       "      <td>Working</td>\n",
       "      <td>Higher education</td>\n",
       "      <td>Civil marriage</td>\n",
       "      <td>Rented apartment</td>\n",
       "      <td>-12005</td>\n",
       "      <td>-4542</td>\n",
       "      <td>1</td>\n",
       "      <td>1</td>\n",
       "      <td>0</td>\n",
       "      <td>0</td>\n",
       "      <td>2.0</td>\n",
       "      <td>C</td>\n",
       "    </tr>\n",
       "    <tr>\n",
       "      <th>3</th>\n",
       "      <td>M</td>\n",
       "      <td>Y</td>\n",
       "      <td>Y</td>\n",
       "      <td>0</td>\n",
       "      <td>427500.0</td>\n",
       "      <td>Working</td>\n",
       "      <td>Higher education</td>\n",
       "      <td>Civil marriage</td>\n",
       "      <td>Rented apartment</td>\n",
       "      <td>-12005</td>\n",
       "      <td>-4542</td>\n",
       "      <td>1</td>\n",
       "      <td>1</td>\n",
       "      <td>0</td>\n",
       "      <td>0</td>\n",
       "      <td>2.0</td>\n",
       "      <td>C</td>\n",
       "    </tr>\n",
       "    <tr>\n",
       "      <th>4</th>\n",
       "      <td>M</td>\n",
       "      <td>Y</td>\n",
       "      <td>Y</td>\n",
       "      <td>0</td>\n",
       "      <td>427500.0</td>\n",
       "      <td>Working</td>\n",
       "      <td>Higher education</td>\n",
       "      <td>Civil marriage</td>\n",
       "      <td>Rented apartment</td>\n",
       "      <td>-12005</td>\n",
       "      <td>-4542</td>\n",
       "      <td>1</td>\n",
       "      <td>1</td>\n",
       "      <td>0</td>\n",
       "      <td>0</td>\n",
       "      <td>2.0</td>\n",
       "      <td>C</td>\n",
       "    </tr>\n",
       "    <tr>\n",
       "      <th>...</th>\n",
       "      <td>...</td>\n",
       "      <td>...</td>\n",
       "      <td>...</td>\n",
       "      <td>...</td>\n",
       "      <td>...</td>\n",
       "      <td>...</td>\n",
       "      <td>...</td>\n",
       "      <td>...</td>\n",
       "      <td>...</td>\n",
       "      <td>...</td>\n",
       "      <td>...</td>\n",
       "      <td>...</td>\n",
       "      <td>...</td>\n",
       "      <td>...</td>\n",
       "      <td>...</td>\n",
       "      <td>...</td>\n",
       "      <td>...</td>\n",
       "    </tr>\n",
       "    <tr>\n",
       "      <th>777710</th>\n",
       "      <td>M</td>\n",
       "      <td>N</td>\n",
       "      <td>Y</td>\n",
       "      <td>0</td>\n",
       "      <td>112500.0</td>\n",
       "      <td>Working</td>\n",
       "      <td>Secondary / secondary special</td>\n",
       "      <td>Single / not married</td>\n",
       "      <td>Rented apartment</td>\n",
       "      <td>-9188</td>\n",
       "      <td>-1193</td>\n",
       "      <td>1</td>\n",
       "      <td>0</td>\n",
       "      <td>0</td>\n",
       "      <td>0</td>\n",
       "      <td>1.0</td>\n",
       "      <td>0</td>\n",
       "    </tr>\n",
       "    <tr>\n",
       "      <th>777711</th>\n",
       "      <td>M</td>\n",
       "      <td>N</td>\n",
       "      <td>Y</td>\n",
       "      <td>0</td>\n",
       "      <td>112500.0</td>\n",
       "      <td>Working</td>\n",
       "      <td>Secondary / secondary special</td>\n",
       "      <td>Single / not married</td>\n",
       "      <td>Rented apartment</td>\n",
       "      <td>-9188</td>\n",
       "      <td>-1193</td>\n",
       "      <td>1</td>\n",
       "      <td>0</td>\n",
       "      <td>0</td>\n",
       "      <td>0</td>\n",
       "      <td>1.0</td>\n",
       "      <td>2</td>\n",
       "    </tr>\n",
       "    <tr>\n",
       "      <th>777712</th>\n",
       "      <td>M</td>\n",
       "      <td>N</td>\n",
       "      <td>Y</td>\n",
       "      <td>0</td>\n",
       "      <td>112500.0</td>\n",
       "      <td>Working</td>\n",
       "      <td>Secondary / secondary special</td>\n",
       "      <td>Single / not married</td>\n",
       "      <td>Rented apartment</td>\n",
       "      <td>-9188</td>\n",
       "      <td>-1193</td>\n",
       "      <td>1</td>\n",
       "      <td>0</td>\n",
       "      <td>0</td>\n",
       "      <td>0</td>\n",
       "      <td>1.0</td>\n",
       "      <td>1</td>\n",
       "    </tr>\n",
       "    <tr>\n",
       "      <th>777713</th>\n",
       "      <td>M</td>\n",
       "      <td>N</td>\n",
       "      <td>Y</td>\n",
       "      <td>0</td>\n",
       "      <td>112500.0</td>\n",
       "      <td>Working</td>\n",
       "      <td>Secondary / secondary special</td>\n",
       "      <td>Single / not married</td>\n",
       "      <td>Rented apartment</td>\n",
       "      <td>-9188</td>\n",
       "      <td>-1193</td>\n",
       "      <td>1</td>\n",
       "      <td>0</td>\n",
       "      <td>0</td>\n",
       "      <td>0</td>\n",
       "      <td>1.0</td>\n",
       "      <td>0</td>\n",
       "    </tr>\n",
       "    <tr>\n",
       "      <th>777714</th>\n",
       "      <td>M</td>\n",
       "      <td>N</td>\n",
       "      <td>Y</td>\n",
       "      <td>0</td>\n",
       "      <td>112500.0</td>\n",
       "      <td>Working</td>\n",
       "      <td>Secondary / secondary special</td>\n",
       "      <td>Single / not married</td>\n",
       "      <td>Rented apartment</td>\n",
       "      <td>-9188</td>\n",
       "      <td>-1193</td>\n",
       "      <td>1</td>\n",
       "      <td>0</td>\n",
       "      <td>0</td>\n",
       "      <td>0</td>\n",
       "      <td>1.0</td>\n",
       "      <td>0</td>\n",
       "    </tr>\n",
       "  </tbody>\n",
       "</table>\n",
       "<p>777715 rows × 17 columns</p>\n",
       "</div>"
      ],
      "text/plain": [
       "       CODE_GENDER FLAG_OWN_CAR FLAG_OWN_REALTY  CNT_CHILDREN  \\\n",
       "0                M            Y               Y             0   \n",
       "1                M            Y               Y             0   \n",
       "2                M            Y               Y             0   \n",
       "3                M            Y               Y             0   \n",
       "4                M            Y               Y             0   \n",
       "...            ...          ...             ...           ...   \n",
       "777710           M            N               Y             0   \n",
       "777711           M            N               Y             0   \n",
       "777712           M            N               Y             0   \n",
       "777713           M            N               Y             0   \n",
       "777714           M            N               Y             0   \n",
       "\n",
       "        AMT_INCOME_TOTAL NAME_INCOME_TYPE            NAME_EDUCATION_TYPE  \\\n",
       "0               427500.0          Working               Higher education   \n",
       "1               427500.0          Working               Higher education   \n",
       "2               427500.0          Working               Higher education   \n",
       "3               427500.0          Working               Higher education   \n",
       "4               427500.0          Working               Higher education   \n",
       "...                  ...              ...                            ...   \n",
       "777710          112500.0          Working  Secondary / secondary special   \n",
       "777711          112500.0          Working  Secondary / secondary special   \n",
       "777712          112500.0          Working  Secondary / secondary special   \n",
       "777713          112500.0          Working  Secondary / secondary special   \n",
       "777714          112500.0          Working  Secondary / secondary special   \n",
       "\n",
       "          NAME_FAMILY_STATUS NAME_HOUSING_TYPE  DAYS_BIRTH  DAYS_EMPLOYED  \\\n",
       "0             Civil marriage  Rented apartment      -12005          -4542   \n",
       "1             Civil marriage  Rented apartment      -12005          -4542   \n",
       "2             Civil marriage  Rented apartment      -12005          -4542   \n",
       "3             Civil marriage  Rented apartment      -12005          -4542   \n",
       "4             Civil marriage  Rented apartment      -12005          -4542   \n",
       "...                      ...               ...         ...            ...   \n",
       "777710  Single / not married  Rented apartment       -9188          -1193   \n",
       "777711  Single / not married  Rented apartment       -9188          -1193   \n",
       "777712  Single / not married  Rented apartment       -9188          -1193   \n",
       "777713  Single / not married  Rented apartment       -9188          -1193   \n",
       "777714  Single / not married  Rented apartment       -9188          -1193   \n",
       "\n",
       "        FLAG_MOBIL  FLAG_WORK_PHONE  FLAG_PHONE  FLAG_EMAIL  CNT_FAM_MEMBERS  \\\n",
       "0                1                1           0           0              2.0   \n",
       "1                1                1           0           0              2.0   \n",
       "2                1                1           0           0              2.0   \n",
       "3                1                1           0           0              2.0   \n",
       "4                1                1           0           0              2.0   \n",
       "...            ...              ...         ...         ...              ...   \n",
       "777710           1                0           0           0              1.0   \n",
       "777711           1                0           0           0              1.0   \n",
       "777712           1                0           0           0              1.0   \n",
       "777713           1                0           0           0              1.0   \n",
       "777714           1                0           0           0              1.0   \n",
       "\n",
       "       STATUS  \n",
       "0           C  \n",
       "1           C  \n",
       "2           C  \n",
       "3           C  \n",
       "4           C  \n",
       "...       ...  \n",
       "777710      0  \n",
       "777711      2  \n",
       "777712      1  \n",
       "777713      0  \n",
       "777714      0  \n",
       "\n",
       "[777715 rows x 17 columns]"
      ]
     },
     "execution_count": 89,
     "metadata": {},
     "output_type": "execute_result"
    }
   ],
   "source": [
    "# Drop Missing values\n",
    "dataset = dataset.dropna(axis=1)\n",
    "print(dataset.isnull().sum())\n",
    "dataset"
   ]
  },
  {
   "cell_type": "code",
   "execution_count": 90,
   "metadata": {},
   "outputs": [
    {
     "name": "stdout",
     "output_type": "stream",
     "text": [
      "<class 'pandas.core.frame.DataFrame'>\n",
      "Int64Index: 777715 entries, 0 to 777714\n",
      "Data columns (total 17 columns):\n",
      " #   Column               Non-Null Count   Dtype  \n",
      "---  ------               --------------   -----  \n",
      " 0   CODE_GENDER          777715 non-null  int32  \n",
      " 1   FLAG_OWN_CAR         777715 non-null  int32  \n",
      " 2   FLAG_OWN_REALTY      777715 non-null  int32  \n",
      " 3   CNT_CHILDREN         777715 non-null  int64  \n",
      " 4   AMT_INCOME_TOTAL     777715 non-null  float64\n",
      " 5   NAME_INCOME_TYPE     777715 non-null  int32  \n",
      " 6   NAME_EDUCATION_TYPE  777715 non-null  int32  \n",
      " 7   NAME_FAMILY_STATUS   777715 non-null  int32  \n",
      " 8   NAME_HOUSING_TYPE    777715 non-null  int32  \n",
      " 9   DAYS_BIRTH           777715 non-null  int64  \n",
      " 10  DAYS_EMPLOYED        777715 non-null  int64  \n",
      " 11  FLAG_MOBIL           777715 non-null  int64  \n",
      " 12  FLAG_WORK_PHONE      777715 non-null  int64  \n",
      " 13  FLAG_PHONE           777715 non-null  int64  \n",
      " 14  FLAG_EMAIL           777715 non-null  int64  \n",
      " 15  CNT_FAM_MEMBERS      777715 non-null  float64\n",
      " 16  STATUS               777715 non-null  int32  \n",
      "dtypes: float64(2), int32(8), int64(7)\n",
      "memory usage: 83.1 MB\n"
     ]
    }
   ],
   "source": [
    "# Categorical Encoding\n",
    "features = ['CODE_GENDER','FLAG_OWN_CAR', 'FLAG_OWN_REALTY','NAME_INCOME_TYPE','NAME_EDUCATION_TYPE',\n",
    "            'NAME_FAMILY_STATUS','NAME_HOUSING_TYPE','FLAG_MOBIL','FLAG_WORK_PHONE','FLAG_PHONE','FLAG_EMAIL']\n",
    "\n",
    "encoder = preprocessing.LabelEncoder()\n",
    "\n",
    "for col in features:\n",
    "    dataset[col] = encoder.fit_transform(dataset[col])\n",
    "\n",
    "dataset[\"STATUS\"] = dataset['STATUS'].map(\n",
    "    {'C': 1, 'X': 1, '0': 1, '1': 0, '2': 0, '3': 0, '4': 0, '5': 0}).astype(int)\n",
    "\n",
    "dataset.info()"
   ]
  },
  {
   "cell_type": "code",
   "execution_count": 91,
   "metadata": {},
   "outputs": [
    {
     "data": {
      "text/plain": [
       "1    546619\n",
       "3     94335\n",
       "0     60342\n",
       "2     45255\n",
       "4     31164\n",
       "Name: NAME_FAMILY_STATUS, dtype: int64"
      ]
     },
     "execution_count": 91,
     "metadata": {},
     "output_type": "execute_result"
    }
   ],
   "source": [
    "dataset['NAME_FAMILY_STATUS'].value_counts()\n",
    "\n",
    "# Married                 546619    1\n",
    "# Single / not married     94335    3\n",
    "# Civil marriage           60342    0\n",
    "# Separated                45255    2\n",
    "# Widow                    31164    4"
   ]
  },
  {
   "attachments": {},
   "cell_type": "markdown",
   "metadata": {},
   "source": [
    "## Handle Imbalanced data"
   ]
  },
  {
   "cell_type": "code",
   "execution_count": 92,
   "metadata": {},
   "outputs": [
    {
     "data": {
      "image/png": "[encoded data removed]",
      "text/plain": [
       "<Figure size 1000x500 with 1 Axes>"
      ]
     },
     "metadata": {},
     "output_type": "display_data"
    }
   ],
   "source": [
    "import matplotlib.pyplot as plt\n",
    "\n",
    "plt.figure( figsize=(10,5) )\n",
    "dataset['STATUS'].value_counts().plot( kind='pie', colors=['lightcoral','skyblue'], autopct='%1.2f%%' )\n",
    "plt.title( 'STATUS' )\n",
    "plt.ylabel( '' )\n",
    "plt.show()"
   ]
  },
  {
   "cell_type": "code",
   "execution_count": 93,
   "metadata": {},
   "outputs": [],
   "source": [
    "X = dataset.iloc[:, :-1].values\n",
    "y = dataset.iloc[:, -1].values\n",
    "\n",
    "# over sampling and under sampling\n",
    "X_smote, y_smote = SMOTETomek(random_state=1).fit_resample(X, y)\n",
    "\n",
    "# Splitting the dataset\n",
    "X_train, X_test, y_train, y_test = train_test_split(\n",
    "    X_smote, y_smote, train_size=0.25, random_state=0)"
   ]
  },
  {
   "cell_type": "code",
   "execution_count": 94,
   "metadata": {},
   "outputs": [
    {
     "data": {
      "image/png": "[encoded data removed]",
      "text/plain": [
       "<Figure size 1000x500 with 1 Axes>"
      ]
     },
     "metadata": {},
     "output_type": "display_data"
    }
   ],
   "source": [
    "plt.figure( figsize=(10,5) )\n",
    "pd.Series(y_smote).value_counts().plot( kind='pie', colors=['lightcoral','skyblue'], autopct='%1.2f%%' )\n",
    "plt.title( 'STATUS' )  # 圖標題\n",
    "plt.ylabel( '' )\n",
    "plt.show()"
   ]
  },
  {
   "attachments": {},
   "cell_type": "markdown",
   "metadata": {},
   "source": [
    "## Feature Scaling"
   ]
  },
  {
   "cell_type": "code",
   "execution_count": 95,
   "metadata": {},
   "outputs": [],
   "source": [
    "sc = StandardScaler()\n",
    "X_train = sc.fit_transform(X_train)\n",
    "X_test = sc.transform(X_test)"
   ]
  },
  {
   "attachments": {},
   "cell_type": "markdown",
   "metadata": {},
   "source": [
    "## Training the model"
   ]
  },
  {
   "attachments": {},
   "cell_type": "markdown",
   "metadata": {},
   "source": [
    "- ### K nearest neighbors"
   ]
  },
  {
   "cell_type": "code",
   "execution_count": 96,
   "metadata": {},
   "outputs": [],
   "source": [
    "knn_classifier = KNeighborsClassifier()\n",
    "knn_classifier.fit(X_train, y_train)\n",
    "\n",
    "y_knn_pred = knn_classifier.predict(X_test)"
   ]
  },
  {
   "attachments": {},
   "cell_type": "markdown",
   "metadata": {},
   "source": [
    "- ### XGboost"
   ]
  },
  {
   "cell_type": "code",
   "execution_count": 97,
   "metadata": {},
   "outputs": [],
   "source": [
    "xgb_classifier = XGBClassifier(max_depth=12,n_estimators=250,min_child_weight=8, subsample=0.8, learning_rate =0.02,random_state=0)\n",
    "xgb_classifier.fit(X_train, y_train)\n",
    "\n",
    "y_xgb_pred = xgb_classifier.predict(X_test)"
   ]
  },
  {
   "attachments": {},
   "cell_type": "markdown",
   "metadata": {},
   "source": [
    "- ### Random Forest"
   ]
  },
  {
   "cell_type": "code",
   "execution_count": 98,
   "metadata": {},
   "outputs": [],
   "source": [
    "rf_classifier = RandomForestClassifier(random_state=0)\n",
    "rf_classifier.fit(X_train, y_train)\n",
    "\n",
    "y_rf_pred = rf_classifier.predict(X_test)"
   ]
  },
  {
   "attachments": {},
   "cell_type": "markdown",
   "metadata": {},
   "source": [
    "- ### Naive Bayes"
   ]
  },
  {
   "cell_type": "code",
   "execution_count": 99,
   "metadata": {},
   "outputs": [],
   "source": [
    "nb_classifier = GaussianNB()\n",
    "nb_classifier.fit(X_train, y_train)\n",
    "\n",
    "y_nb_pred = nb_classifier.predict(X_test)"
   ]
  },
  {
   "attachments": {},
   "cell_type": "markdown",
   "metadata": {},
   "source": [
    "- ### Logistic Regression"
   ]
  },
  {
   "cell_type": "code",
   "execution_count": 101,
   "metadata": {},
   "outputs": [
    {
     "data": {
      "text/html": [
       "<div>\n",
       "<style scoped>\n",
       "    .dataframe tbody tr th:only-of-type {\n",
       "        vertical-align: middle;\n",
       "    }\n",
       "\n",
       "    .dataframe tbody tr th {\n",
       "        vertical-align: top;\n",
       "    }\n",
       "\n",
       "    .dataframe thead th {\n",
       "        text-align: right;\n",
       "    }\n",
       "</style>\n",
       "<table border=\"1\" class=\"dataframe\">\n",
       "  <thead>\n",
       "    <tr style=\"text-align: right;\">\n",
       "      <th></th>\n",
       "      <th>features</th>\n",
       "      <th>coef</th>\n",
       "    </tr>\n",
       "  </thead>\n",
       "  <tbody>\n",
       "    <tr>\n",
       "      <th>0</th>\n",
       "      <td>CODE_GENDER</td>\n",
       "      <td>[-0.12812782685481913]</td>\n",
       "    </tr>\n",
       "    <tr>\n",
       "      <th>1</th>\n",
       "      <td>FLAG_OWN_CAR</td>\n",
       "      <td>[0.09045610687779877]</td>\n",
       "    </tr>\n",
       "    <tr>\n",
       "      <th>2</th>\n",
       "      <td>FLAG_OWN_REALTY</td>\n",
       "      <td>[0.06457114149884181]</td>\n",
       "    </tr>\n",
       "    <tr>\n",
       "      <th>3</th>\n",
       "      <td>CNT_CHILDREN</td>\n",
       "      <td>[0.11744539485233205]</td>\n",
       "    </tr>\n",
       "    <tr>\n",
       "      <th>4</th>\n",
       "      <td>AMT_INCOME_TOTAL</td>\n",
       "      <td>[-0.02273901802487682]</td>\n",
       "    </tr>\n",
       "    <tr>\n",
       "      <th>5</th>\n",
       "      <td>NAME_INCOME_TYPE</td>\n",
       "      <td>[0.11502732199661583]</td>\n",
       "    </tr>\n",
       "    <tr>\n",
       "      <th>6</th>\n",
       "      <td>NAME_EDUCATION_TYPE</td>\n",
       "      <td>[0.010495767845879809]</td>\n",
       "    </tr>\n",
       "    <tr>\n",
       "      <th>7</th>\n",
       "      <td>NAME_FAMILY_STATUS</td>\n",
       "      <td>[-0.132308536466592]</td>\n",
       "    </tr>\n",
       "    <tr>\n",
       "      <th>8</th>\n",
       "      <td>NAME_HOUSING_TYPE</td>\n",
       "      <td>[0.014305627058625054]</td>\n",
       "    </tr>\n",
       "    <tr>\n",
       "      <th>9</th>\n",
       "      <td>DAYS_BIRTH</td>\n",
       "      <td>[-0.10826768220153975]</td>\n",
       "    </tr>\n",
       "    <tr>\n",
       "      <th>10</th>\n",
       "      <td>DAYS_EMPLOYED</td>\n",
       "      <td>[0.00605370818916662]</td>\n",
       "    </tr>\n",
       "    <tr>\n",
       "      <th>11</th>\n",
       "      <td>FLAG_MOBIL</td>\n",
       "      <td>[0.0]</td>\n",
       "    </tr>\n",
       "    <tr>\n",
       "      <th>12</th>\n",
       "      <td>FLAG_WORK_PHONE</td>\n",
       "      <td>[-0.03455456620553413]</td>\n",
       "    </tr>\n",
       "    <tr>\n",
       "      <th>13</th>\n",
       "      <td>FLAG_PHONE</td>\n",
       "      <td>[0.003382933277728918]</td>\n",
       "    </tr>\n",
       "    <tr>\n",
       "      <th>14</th>\n",
       "      <td>FLAG_EMAIL</td>\n",
       "      <td>[0.00046444884267596553]</td>\n",
       "    </tr>\n",
       "    <tr>\n",
       "      <th>15</th>\n",
       "      <td>CNT_FAM_MEMBERS</td>\n",
       "      <td>[-0.16285210533376251]</td>\n",
       "    </tr>\n",
       "  </tbody>\n",
       "</table>\n",
       "</div>"
      ],
      "text/plain": [
       "               features                      coef\n",
       "0           CODE_GENDER    [-0.12812782685481913]\n",
       "1          FLAG_OWN_CAR     [0.09045610687779877]\n",
       "2       FLAG_OWN_REALTY     [0.06457114149884181]\n",
       "3          CNT_CHILDREN     [0.11744539485233205]\n",
       "4      AMT_INCOME_TOTAL    [-0.02273901802487682]\n",
       "5      NAME_INCOME_TYPE     [0.11502732199661583]\n",
       "6   NAME_EDUCATION_TYPE    [0.010495767845879809]\n",
       "7    NAME_FAMILY_STATUS      [-0.132308536466592]\n",
       "8     NAME_HOUSING_TYPE    [0.014305627058625054]\n",
       "9            DAYS_BIRTH    [-0.10826768220153975]\n",
       "10        DAYS_EMPLOYED     [0.00605370818916662]\n",
       "11           FLAG_MOBIL                     [0.0]\n",
       "12      FLAG_WORK_PHONE    [-0.03455456620553413]\n",
       "13           FLAG_PHONE    [0.003382933277728918]\n",
       "14           FLAG_EMAIL  [0.00046444884267596553]\n",
       "15      CNT_FAM_MEMBERS    [-0.16285210533376251]"
      ]
     },
     "execution_count": 101,
     "metadata": {},
     "output_type": "execute_result"
    }
   ],
   "source": [
    "logis_classifier = LogisticRegression(random_state=0)\n",
    "logis_classifier.fit(X_train, y_train)\n",
    "\n",
    "y_logis_pred = logis_classifier.predict(X_test)\n",
    "\n",
    "feature_coef = pd.DataFrame(zip(dataset.drop(labels=['STATUS'],axis=1).columns, np.transpose(logis_classifier.coef_)), columns=['features', 'coef'])\n",
    "feature_coef"
   ]
  },
  {
   "attachments": {},
   "cell_type": "markdown",
   "metadata": {},
   "source": [
    "## Making the Confusion Matrix / Accuracy"
   ]
  },
  {
   "cell_type": "code",
   "execution_count": 102,
   "metadata": {},
   "outputs": [
    {
     "name": "stdout",
     "output_type": "stream",
     "text": [
      "=============== K nearest neighbors ===============\n",
      "[[526716  47615]\n",
      " [ 73109 501770]]\n",
      "Accuracy of the knn model is 0.8950\n",
      "Recall of the knn model is 0.8728\n",
      "              precision    recall  f1-score   support\n",
      "\n",
      "           0       0.88      0.92      0.90    574331\n",
      "           1       0.91      0.87      0.89    574879\n",
      "\n",
      "    accuracy                           0.89   1149210\n",
      "   macro avg       0.90      0.89      0.89   1149210\n",
      "weighted avg       0.90      0.89      0.89   1149210\n",
      "\n"
     ]
    }
   ],
   "source": [
    "print(\"=============== K nearest neighbors ===============\")\n",
    "print(confusion_matrix(y_test, y_knn_pred))\n",
    "print(\"Accuracy of the knn model is %.4f\" % accuracy_score(y_test, y_knn_pred))\n",
    "print(\"Recall of the knn model is %.4f\" % recall_score(y_test, y_knn_pred))\n",
    "print(classification_report(y_test, y_knn_pred))"
   ]
  },
  {
   "cell_type": "code",
   "execution_count": 103,
   "metadata": {},
   "outputs": [
    {
     "name": "stdout",
     "output_type": "stream",
     "text": [
      "===================== XGboost =====================\n",
      "[[523168  51163]\n",
      " [ 61752 513127]]\n",
      "Accuracy of the XGboost model is 0.9017\n",
      "Recall of the XGboost model is 0.8926\n",
      "              precision    recall  f1-score   support\n",
      "\n",
      "           0       0.89      0.91      0.90    574331\n",
      "           1       0.91      0.89      0.90    574879\n",
      "\n",
      "    accuracy                           0.90   1149210\n",
      "   macro avg       0.90      0.90      0.90   1149210\n",
      "weighted avg       0.90      0.90      0.90   1149210\n",
      "\n"
     ]
    }
   ],
   "source": [
    "print(\"===================== XGboost =====================\")\n",
    "print(confusion_matrix(y_test, y_xgb_pred))\n",
    "print(\"Accuracy of the XGboost model is %.4f\" % accuracy_score(y_test, y_xgb_pred))\n",
    "print(\"Recall of the XGboost model is %.4f\" % recall_score(y_test, y_xgb_pred))\n",
    "print(classification_report(y_test, y_xgb_pred))"
   ]
  },
  {
   "cell_type": "code",
   "execution_count": 104,
   "metadata": {},
   "outputs": [
    {
     "name": "stdout",
     "output_type": "stream",
     "text": [
      "================== Random Forest ==================\n",
      "[[546672  27659]\n",
      " [ 73776 501103]]\n",
      "Accuracy of the Random Forest model is 0.9117\n",
      "Recall of the Random Forest model is 0.8717\n",
      "              precision    recall  f1-score   support\n",
      "\n",
      "           0       0.88      0.95      0.92    574331\n",
      "           1       0.95      0.87      0.91    574879\n",
      "\n",
      "    accuracy                           0.91   1149210\n",
      "   macro avg       0.91      0.91      0.91   1149210\n",
      "weighted avg       0.91      0.91      0.91   1149210\n",
      "\n"
     ]
    }
   ],
   "source": [
    "print(\"================== Random Forest ==================\")\n",
    "print(confusion_matrix(y_test, y_rf_pred))\n",
    "print(\"Accuracy of the Random Forest model is %.4f\" % accuracy_score(y_test, y_rf_pred))\n",
    "print(\"Recall of the Random Forest model is %.4f\" % recall_score(y_test, y_rf_pred))\n",
    "print(classification_report(y_test, y_rf_pred))"
   ]
  },
  {
   "cell_type": "code",
   "execution_count": 105,
   "metadata": {},
   "outputs": [
    {
     "name": "stdout",
     "output_type": "stream",
     "text": [
      "==================== Naive Bayes ====================\n",
      "[[254438 319893]\n",
      " [221280 353599]]\n",
      "Accuracy of the Naive Bayes model is 0.5291\n",
      "Recall of the Naive Bayes model is 0.6151\n",
      "              precision    recall  f1-score   support\n",
      "\n",
      "           0       0.53      0.44      0.48    574331\n",
      "           1       0.53      0.62      0.57    574879\n",
      "\n",
      "    accuracy                           0.53   1149210\n",
      "   macro avg       0.53      0.53      0.53   1149210\n",
      "weighted avg       0.53      0.53      0.53   1149210\n",
      "\n"
     ]
    }
   ],
   "source": [
    "print(\"==================== Naive Bayes ====================\")\n",
    "print(confusion_matrix(y_test, y_nb_pred))\n",
    "print(\"Accuracy of the Naive Bayes model is %.4f\" % accuracy_score(y_test, y_nb_pred))\n",
    "print(\"Recall of the Naive Bayes model is %.4f\" % recall_score(y_test, y_nb_pred))\n",
    "print(classification_report(y_test, y_nb_pred))"
   ]
  },
  {
   "cell_type": "code",
   "execution_count": 107,
   "metadata": {},
   "outputs": [
    {
     "name": "stdout",
     "output_type": "stream",
     "text": [
      "=================== Logistic Regression ===================\n",
      "[[306480 267851]\n",
      " [244906 329973]]\n",
      "Accuracy of the Logistic Regression model is 0.5538\n",
      "Recall of the Logistic Regression model is 0.5740\n",
      "              precision    recall  f1-score   support\n",
      "\n",
      "           0       0.56      0.53      0.54    574331\n",
      "           1       0.55      0.57      0.56    574879\n",
      "\n",
      "    accuracy                           0.55   1149210\n",
      "   macro avg       0.55      0.55      0.55   1149210\n",
      "weighted avg       0.55      0.55      0.55   1149210\n",
      "\n"
     ]
    }
   ],
   "source": [
    "print(\"=================== Logistic Regression ===================\")\n",
    "print(confusion_matrix(y_test, y_logis_pred))\n",
    "print(\"Accuracy of the Logistic Regression model is %.4f\" % accuracy_score(y_test, y_logis_pred))\n",
    "print(\"Recall of the Logistic Regression model is %.4f\" % recall_score(y_test, y_logis_pred))\n",
    "print(classification_report(y_test, y_logis_pred))"
   ]
  },
  {
   "attachments": {},
   "cell_type": "markdown",
   "metadata": {},
   "source": [
    "## Feature scores"
   ]
  },
  {
   "cell_type": "code",
   "execution_count": 108,
   "metadata": {},
   "outputs": [
    {
     "name": "stdout",
     "output_type": "stream",
     "text": [
      "DAYS_BIRTH             0.226697\n",
      "DAYS_EMPLOYED          0.170910\n",
      "AMT_INCOME_TOTAL       0.152565\n",
      "NAME_FAMILY_STATUS     0.049352\n",
      "FLAG_OWN_REALTY        0.045386\n",
      "NAME_EDUCATION_TYPE    0.045248\n",
      "CNT_FAM_MEMBERS        0.044574\n",
      "NAME_INCOME_TYPE       0.044387\n",
      "CODE_GENDER            0.041292\n",
      "FLAG_OWN_CAR           0.039932\n",
      "FLAG_PHONE             0.037347\n",
      "CNT_CHILDREN           0.031073\n",
      "FLAG_WORK_PHONE        0.028085\n",
      "NAME_HOUSING_TYPE      0.024837\n",
      "FLAG_EMAIL             0.018315\n",
      "FLAG_MOBIL             0.000000\n",
      "dtype: float64\n"
     ]
    }
   ],
   "source": [
    "feature_scores = pd.Series(rf_classifier.feature_importances_,\n",
    "                           index=dataset.iloc[:, :-1].columns).sort_values(ascending=False)\n",
    "\n",
    "print(feature_scores)"
   ]
  },
  {
   "attachments": {},
   "cell_type": "markdown",
   "metadata": {},
   "source": [
    "## ROC curve"
   ]
  },
  {
   "cell_type": "code",
   "execution_count": 109,
   "metadata": {},
   "outputs": [],
   "source": [
    "# logistic define metrics\n",
    "y_pred_logistic_proba = logis_classifier.predict_proba(X_test)[::, 1]\n",
    "logistic_fpr, logistic_tpr, _ = metrics.roc_curve(\n",
    "    y_test,  y_pred_logistic_proba)\n",
    "logistic_auc = metrics.roc_auc_score(y_test, y_pred_logistic_proba)\n",
    "\n",
    "# NB define metrics\n",
    "y_pred_nb_proba = nb_classifier.predict_proba(X_test)[::, 1]\n",
    "nb_fpr, nb_tpr, _ = metrics.roc_curve(\n",
    "    y_test,  y_pred_nb_proba)\n",
    "nb_auc = metrics.roc_auc_score(y_test, y_pred_nb_proba)\n",
    "\n",
    "# xgboost define metrics\n",
    "y_pred_xgb_proba = xgb_classifier.predict_proba(X_test)[::, 1]\n",
    "xgb_fpr, xgb_tpr, _ = metrics.roc_curve(\n",
    "    y_test,  y_pred_xgb_proba)\n",
    "xgb_auc = metrics.roc_auc_score(y_test, y_pred_xgb_proba)\n",
    "\n",
    "# KNN define metrics\n",
    "y_pred_knn_proba = knn_classifier.predict_proba(X_test)[::, 1]\n",
    "knn_fpr, knn_tpr, _ = metrics.roc_curve(\n",
    "    y_test,  y_pred_knn_proba)\n",
    "knn_auc = metrics.roc_auc_score(y_test, y_pred_knn_proba)\n",
    "\n",
    "# Random Forest define metrics\n",
    "y_pred_rf_proba = rf_classifier.predict_proba(X_test)[::, 1]\n",
    "rf_fpr, rf_tpr, _ = metrics.roc_curve(\n",
    "    y_test,  y_pred_rf_proba)\n",
    "rf_auc = metrics.roc_auc_score(y_test, y_pred_rf_proba)"
   ]
  },
  {
   "cell_type": "code",
   "execution_count": 110,
   "metadata": {},
   "outputs": [
    {
     "data": {
      "image/png": "[encoded data removed]",
      "text/plain": [
       "<Figure size 640x480 with 1 Axes>"
      ]
     },
     "metadata": {},
     "output_type": "display_data"
    }
   ],
   "source": [
    "# create ROC curve\n",
    "plt.plot(logistic_fpr, logistic_tpr,\n",
    "         label=\"Logistic AUC=\" + str(round(logistic_auc, 2)))\n",
    "plt.plot(nb_fpr, nb_tpr, label=\"Naive Bayes AUC=\" + str(round(nb_auc, 2)))\n",
    "plt.plot(xgb_fpr, xgb_tpr, label=\"XGboost AUC=\" + str(round(xgb_auc, 2)))\n",
    "plt.plot(knn_fpr, knn_tpr, label=\"KNN AUC=\" + str(round(knn_auc, 2)))\n",
    "plt.plot(rf_fpr, rf_tpr, label=\"Random Forest AUC=\" + str(round(rf_auc, 2)))\n",
    "plt.ylabel('True Positive Rate')\n",
    "plt.xlabel('False Positive Rate')\n",
    "plt.legend(loc=4)\n",
    "plt.show()"
   ]
  }
 ],
 "metadata": {
  "kernelspec": {
   "display_name": "venv",
   "language": "python",
   "name": "python3"
  },
  "language_info": {
   "codemirror_mode": {
    "name": "ipython",
    "version": 3
   },
   "file_extension": ".py",
   "mimetype": "text/x-python",
   "name": "python",
   "nbconvert_exporter": "python",
   "pygments_lexer": "ipython3",
   "version": "3.10.9"
  },
  "orig_nbformat": 4,
  "vscode": {
   "interpreter": {
    "hash": "ce62f0f8ee8381fdb4b01c070ee0e3fa4c00a4646fa582a8c1a7feae23c16506"
   }
  }
 },
 "nbformat": 4,
 "nbformat_minor": 2
}
